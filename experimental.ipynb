{
 "cells": [
  {
   "cell_type": "code",
   "execution_count": 16,
   "metadata": {},
   "outputs": [],
   "source": [
    "import google.generativeai as genai\n",
    "from openai import OpenAI\n",
    "from dotenv import load_dotenv\n",
    "import os\n",
    "import json"
   ]
  },
  {
   "cell_type": "markdown",
   "metadata": {},
   "source": [
    "- https://ai.google.dev/gemini-api/docs/quickstart?lang=python\n",
    "- https://github.com/anthropics/anthropic-cookbook/blob/main/misc/how_to_make_sql_queries.ipynb\n",
    "- https://platform.openai.com/docs/guides/function-calling\n",
    "- https://cookbook.openai.com/examples/how_to_call_functions_with_chat_models"
   ]
  },
  {
   "cell_type": "code",
   "execution_count": 2,
   "metadata": {},
   "outputs": [],
   "source": [
    "load_dotenv()\n",
    "\n",
    "GEMINI_KEY = os.getenv('GEMINI_API_KEY')"
   ]
  },
  {
   "cell_type": "code",
   "execution_count": 3,
   "metadata": {},
   "outputs": [],
   "source": [
    "models = {\n",
    "    \"flash_2.0\": \"gemini-2.0-flash-exp\",\n",
    "}"
   ]
  },
  {
   "cell_type": "code",
   "execution_count": 4,
   "metadata": {},
   "outputs": [],
   "source": [
    "#genai.configure(api_key=GEMINI_KEY)\n",
    "#model = genai.GenerativeModel(models[\"flash_2.0\"])\n",
    "#response = model.generate_content(\"Explain how AI works\")\n",
    "#print(response.text)"
   ]
  },
  {
   "cell_type": "code",
   "execution_count": 5,
   "metadata": {},
   "outputs": [],
   "source": [
    "client = OpenAI(\n",
    "    api_key=GEMINI_KEY,\n",
    "    base_url=\"https://generativelanguage.googleapis.com/v1beta/openai/\"\n",
    ")"
   ]
  },
  {
   "cell_type": "code",
   "execution_count": 6,
   "metadata": {},
   "outputs": [
    {
     "name": "stdout",
     "output_type": "stream",
     "text": [
      "ChatCompletionMessage(content='5 + 3 = 8\\n', refusal=None, role='assistant', audio=None, function_call=None, tool_calls=None)\n"
     ]
    }
   ],
   "source": [
    "response = client.chat.completions.create(\n",
    "    model=models[\"flash_2.0\"],\n",
    "    n=1,\n",
    "    messages=[\n",
    "        {\n",
    "            \"role\": \"system\", \n",
    "            \"content\": \"You are a helpful beginner math bot. You can perform addition and subtraction using two input values. Do not perform any other tasks.\"\n",
    "        },\n",
    "        {\n",
    "            \"role\": \"user\", \n",
    "            \"content\": \"What is 5 plus 3?\"},\n",
    "    ]\n",
    ")\n",
    "\n",
    "print(response.choices[0].message)"
   ]
  },
  {
   "cell_type": "markdown",
   "metadata": {},
   "source": [
    "## Tools (functions)"
   ]
  },
  {
   "cell_type": "code",
   "execution_count": 7,
   "metadata": {},
   "outputs": [],
   "source": [
    "def addition(a: int, b: int) -> int:\n",
    "    return a+b\n",
    "\n",
    "def subtraction(a: int, b: int) -> int:\n",
    "    return a-b\n",
    "\n",
    "\n",
    "math_controls = [addition, subtraction]\n",
    "instruction = \"You are a helpful beginner math bot. You can perform addition and subtraction using two input values. Do not perform any other tasks.\""
   ]
  },
  {
   "cell_type": "code",
   "execution_count": 56,
   "metadata": {},
   "outputs": [
    {
     "name": "stdout",
     "output_type": "stream",
     "text": [
      "ChatCompletion(id=None, choices=[Choice(finish_reason=None, index=0, logprobs=None, message=ChatCompletionMessage(content=None, refusal=None, role='assistant', audio=None, function_call=None, tool_calls=None, toolCalls=[{'function': {'arguments': '{\"a\":6,\"b\":4}', 'name': 'addition'}, 'id': '0', 'type': 'function'}]), finishReason='stop')], created=1736173617, model='gemini-2.0-flash-exp', object='chat.completion', service_tier=None, system_fingerprint=None, usage=CompletionUsage(completion_tokens=None, prompt_tokens=None, total_tokens=None, completion_tokens_details=None, prompt_tokens_details=None, completionTokens=3, promptTokens=128, totalTokens=131))\n"
     ]
    }
   ],
   "source": [
    "tools = [\n",
    "    {\n",
    "        \"type\": \"function\",\n",
    "        \"function\": {\n",
    "            \"name\": \"addition\",\n",
    "            \"description\": \"Add two numbers\",\n",
    "            \"parameters\": {\n",
    "                \"type\": \"object\",\n",
    "                \"properties\": {\n",
    "                    \"a\": {\n",
    "                        \"type\": \"number\",\n",
    "                        \"description\": \"First number\"\n",
    "                    },\n",
    "                    \"b\": {\n",
    "                        \"type\": \"number\",\n",
    "                        \"description\": \"Second number\"\n",
    "                    }\n",
    "                },\n",
    "                \"required\": [\"a\", \"b\"],\n",
    "                \"additionalProperties\": False,\n",
    "            },\n",
    "        }\n",
    "    },\n",
    "    {\n",
    "        \"type\": \"function\",\n",
    "        \"function\": {\n",
    "            \"name\": \"subtraction\",\n",
    "            \"description\": \"Subtract two numbers\",\n",
    "            \"parameters\": {\n",
    "                \"type\": \"object\",\n",
    "                \"properties\": {\n",
    "                    \"a\": {\n",
    "                        \"type\": \"number\",\n",
    "                        \"description\": \"First number\"\n",
    "                    },\n",
    "                    \"b\": {\n",
    "                        \"type\": \"number\",\n",
    "                        \"description\": \"Second number\"\n",
    "                    }\n",
    "                },\n",
    "                \"required\": [\"a\", \"b\"],\n",
    "                \"additionalProperties\": False\n",
    "            }\n",
    "        }\n",
    "    }\n",
    "]\n",
    "\n",
    "instruction = \"You are a helpful beginner math bot. You can perform addition and subtraction using two input values. Do not perform any other tasks.\"\n",
    "prompt = \"What is 6 plus 4?\"\n",
    "# prompt = \"How old is the king?\"\n",
    "\n",
    "messages = [\n",
    "    {\n",
    "        \"role\": \"user\",\n",
    "        \"content\": prompt\n",
    "    },\n",
    "    {\n",
    "        \"role\": \"system\",\n",
    "        \"content\": instruction\n",
    "    }\n",
    "]\n",
    "\n",
    "response = client.chat.completions.create(\n",
    "    model=models[\"flash_2.0\"],\n",
    "    messages=messages,\n",
    "    tools=tools,\n",
    "    # tool_choice='auto'\n",
    ")\n",
    "\n",
    "print(response)\n"
   ]
  },
  {
   "cell_type": "code",
   "execution_count": 57,
   "metadata": {},
   "outputs": [
    {
     "name": "stdout",
     "output_type": "stream",
     "text": [
      "completion tokens: 3\n",
      "prompt tokens: 128\n",
      "total tokens: 131\n"
     ]
    }
   ],
   "source": [
    "print(f\"completion tokens: {response.usage.completionTokens}\")\n",
    "print(f\"prompt tokens: {response.usage.promptTokens}\")\n",
    "print(f\"total tokens: {response.usage.totalTokens}\")"
   ]
  },
  {
   "cell_type": "code",
   "execution_count": 58,
   "metadata": {},
   "outputs": [
    {
     "data": {
      "text/plain": [
       "openai.types.chat.chat_completion.Choice"
      ]
     },
     "execution_count": 58,
     "metadata": {},
     "output_type": "execute_result"
    }
   ],
   "source": [
    "type(response.choices[0])"
   ]
  },
  {
   "cell_type": "code",
   "execution_count": 59,
   "metadata": {},
   "outputs": [],
   "source": [
    "#response.choices[0].message.toolCalls"
   ]
  },
  {
   "cell_type": "code",
   "execution_count": 60,
   "metadata": {},
   "outputs": [],
   "source": [
    "#response.choices[0].message.toolCalls[0]['function']['name']"
   ]
  },
  {
   "cell_type": "code",
   "execution_count": 61,
   "metadata": {},
   "outputs": [],
   "source": [
    "#json.dumps(response.choices[0].message.toolCalls[0])"
   ]
  },
  {
   "cell_type": "code",
   "execution_count": 62,
   "metadata": {},
   "outputs": [],
   "source": [
    "def check_if_toolcall(response):\n",
    "    if hasattr(response.choices[0].message, 'toolCalls'):\n",
    "        return True\n",
    "    False"
   ]
  },
  {
   "cell_type": "code",
   "execution_count": 63,
   "metadata": {},
   "outputs": [],
   "source": [
    "def call_function_from_output(response):\n",
    "    # extract functino name and arguments\n",
    "    function_call = response.choices[0].message.toolCalls[0]['function']\n",
    "    function_name = function_call['name']\n",
    "    args = eval(function_call['arguments'])\n",
    "\n",
    "    function_lookup = {\n",
    "        \"addition\": addition,\n",
    "        \"subtraction\": subtraction\n",
    "    }\n",
    "\n",
    "    # call the appropriate function\n",
    "    if function_name in function_lookup:\n",
    "        result = function_lookup[function_name](**args)\n",
    "        return result\n",
    "    else:\n",
    "        raise ValueError(f\"unknown function '{function_name}'\")"
   ]
  },
  {
   "cell_type": "code",
   "execution_count": null,
   "metadata": {},
   "outputs": [],
   "source": [
    "def create_function_call_result_message():\n",
    "    result_message = {\n",
    "        \"role\": \"tool\",\n",
    "        \"content\": json.dumps({\n",
    "            \"number_1\": num1,\n",
    "            \"number_2\": num2,\n",
    "            \"output\": result\n",
    "        }),\n",
    "        \n",
    "    }"
   ]
  },
  {
   "cell_type": "code",
   "execution_count": 65,
   "metadata": {},
   "outputs": [
    {
     "name": "stdout",
     "output_type": "stream",
     "text": [
      "10\n"
     ]
    }
   ],
   "source": [
    "if check_if_toolcall(response):\n",
    "    pass\n",
    "else:\n",
    "    print(\"No function was called\")"
   ]
  }
 ],
 "metadata": {
  "kernelspec": {
   "display_name": ".venv",
   "language": "python",
   "name": "python3"
  },
  "language_info": {
   "codemirror_mode": {
    "name": "ipython",
    "version": 3
   },
   "file_extension": ".py",
   "mimetype": "text/x-python",
   "name": "python",
   "nbconvert_exporter": "python",
   "pygments_lexer": "ipython3",
   "version": "3.12.5"
  }
 },
 "nbformat": 4,
 "nbformat_minor": 2
}
